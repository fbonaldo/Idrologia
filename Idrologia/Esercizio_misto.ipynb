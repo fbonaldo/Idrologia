{
 "cells": [
  {
   "cell_type": "code",
   "execution_count": 1,
   "id": "0d19a4ae",
   "metadata": {},
   "outputs": [],
   "source": [
    "import numpy as np\n",
    "import pandas as pd\n",
    "import matplotlib.pyplot as plt\n",
    "import scipy.stats as ss\n",
    "from funz import *"
   ]
  },
  {
   "cell_type": "markdown",
   "id": "b8cb81fd",
   "metadata": {},
   "source": [
    "# LA CELLA SEGUENTE È L'UNICA CHE CAMBIA TRA I DUE NOTEBOOK"
   ]
  },
  {
   "cell_type": "code",
   "execution_count": 2,
   "id": "db499304",
   "metadata": {},
   "outputs": [
    {
     "name": "stdout",
     "output_type": "stream",
     "text": [
      "La cartella di salvataggio dei risultati è: Risultati_misto/\n"
     ]
    }
   ],
   "source": [
    "#Cartella risultati\n",
    "cart=\"Risultati_\"\n",
    "tipo=\"misto\"\n",
    "outdir=cart+tipo+\"/\"\n",
    "print(\"La cartella di salvataggio dei risultati è: \"+outdir)\n",
    "#Quota neve\n",
    "Zneve=1200 #[m s.l.m.]"
   ]
  },
  {
   "cell_type": "markdown",
   "id": "6f48973e",
   "metadata": {},
   "source": [
    "# Caricamento dati"
   ]
  },
  {
   "cell_type": "markdown",
   "id": "4eda451d",
   "metadata": {},
   "source": [
    "## Lettura CSV"
   ]
  },
  {
   "cell_type": "code",
   "execution_count": 3,
   "id": "4990b457",
   "metadata": {},
   "outputs": [],
   "source": [
    "# Nome file\n",
    "file_VolInv=\"CurvaVolumeInvaso.csv\"\n",
    "file_IpsMet=\"CurvaIpsometrica.csv\"\n",
    "file_Precip=\"CurvaPrecipitazioniCumulate.csv\"\n",
    "file_Dati=\"DatiBacinoIniziali.csv\"\n",
    "# Apertura in un dataframe\n",
    "df_VolInv=pd.read_csv(file_VolInv, sep =\";\")\n",
    "df_IpsMet=pd.read_csv(file_IpsMet, sep =\";\")\n",
    "df_Precip=pd.read_csv(file_Precip, sep =\";\")\n",
    "df_Dati=pd.read_csv(file_Dati, sep =\";\")"
   ]
  },
  {
   "cell_type": "code",
   "execution_count": 4,
   "id": "0409e536",
   "metadata": {},
   "outputs": [
    {
     "data": {
      "text/html": [
       "<div>\n",
       "<style scoped>\n",
       "    .dataframe tbody tr th:only-of-type {\n",
       "        vertical-align: middle;\n",
       "    }\n",
       "\n",
       "    .dataframe tbody tr th {\n",
       "        vertical-align: top;\n",
       "    }\n",
       "\n",
       "    .dataframe thead th {\n",
       "        text-align: right;\n",
       "    }\n",
       "</style>\n",
       "<table border=\"1\" class=\"dataframe\">\n",
       "  <thead>\n",
       "    <tr style=\"text-align: right;\">\n",
       "      <th></th>\n",
       "      <th>Quota [m s.l.m.]</th>\n",
       "      <th>Volume totale [Mm^3]</th>\n",
       "    </tr>\n",
       "  </thead>\n",
       "  <tbody>\n",
       "    <tr>\n",
       "      <th>0</th>\n",
       "      <td>830</td>\n",
       "      <td>40</td>\n",
       "    </tr>\n",
       "    <tr>\n",
       "      <th>1</th>\n",
       "      <td>825</td>\n",
       "      <td>27</td>\n",
       "    </tr>\n",
       "    <tr>\n",
       "      <th>2</th>\n",
       "      <td>820</td>\n",
       "      <td>17</td>\n",
       "    </tr>\n",
       "    <tr>\n",
       "      <th>3</th>\n",
       "      <td>815</td>\n",
       "      <td>9</td>\n",
       "    </tr>\n",
       "    <tr>\n",
       "      <th>4</th>\n",
       "      <td>810</td>\n",
       "      <td>4</td>\n",
       "    </tr>\n",
       "    <tr>\n",
       "      <th>5</th>\n",
       "      <td>805</td>\n",
       "      <td>1</td>\n",
       "    </tr>\n",
       "    <tr>\n",
       "      <th>6</th>\n",
       "      <td>800</td>\n",
       "      <td>0</td>\n",
       "    </tr>\n",
       "  </tbody>\n",
       "</table>\n",
       "</div>"
      ],
      "text/plain": [
       "   Quota [m s.l.m.]  Volume totale [Mm^3]\n",
       "0               830                    40\n",
       "1               825                    27\n",
       "2               820                    17\n",
       "3               815                     9\n",
       "4               810                     4\n",
       "5               805                     1\n",
       "6               800                     0"
      ]
     },
     "execution_count": 4,
     "metadata": {},
     "output_type": "execute_result"
    }
   ],
   "source": [
    "df_VolInv"
   ]
  },
  {
   "cell_type": "code",
   "execution_count": 5,
   "id": "d7e4d4f7",
   "metadata": {},
   "outputs": [
    {
     "data": {
      "text/html": [
       "<div>\n",
       "<style scoped>\n",
       "    .dataframe tbody tr th:only-of-type {\n",
       "        vertical-align: middle;\n",
       "    }\n",
       "\n",
       "    .dataframe tbody tr th {\n",
       "        vertical-align: top;\n",
       "    }\n",
       "\n",
       "    .dataframe thead th {\n",
       "        text-align: right;\n",
       "    }\n",
       "</style>\n",
       "<table border=\"1\" class=\"dataframe\">\n",
       "  <thead>\n",
       "    <tr style=\"text-align: right;\">\n",
       "      <th></th>\n",
       "      <th>Quota [m s.l.m.]</th>\n",
       "      <th>Area cumulata [%]</th>\n",
       "    </tr>\n",
       "  </thead>\n",
       "  <tbody>\n",
       "    <tr>\n",
       "      <th>0</th>\n",
       "      <td>800</td>\n",
       "      <td>0</td>\n",
       "    </tr>\n",
       "    <tr>\n",
       "      <th>1</th>\n",
       "      <td>1000</td>\n",
       "      <td>5</td>\n",
       "    </tr>\n",
       "    <tr>\n",
       "      <th>2</th>\n",
       "      <td>1200</td>\n",
       "      <td>15</td>\n",
       "    </tr>\n",
       "    <tr>\n",
       "      <th>3</th>\n",
       "      <td>1400</td>\n",
       "      <td>30</td>\n",
       "    </tr>\n",
       "    <tr>\n",
       "      <th>4</th>\n",
       "      <td>1600</td>\n",
       "      <td>50</td>\n",
       "    </tr>\n",
       "    <tr>\n",
       "      <th>5</th>\n",
       "      <td>1800</td>\n",
       "      <td>70</td>\n",
       "    </tr>\n",
       "    <tr>\n",
       "      <th>6</th>\n",
       "      <td>2000</td>\n",
       "      <td>85</td>\n",
       "    </tr>\n",
       "    <tr>\n",
       "      <th>7</th>\n",
       "      <td>2200</td>\n",
       "      <td>95</td>\n",
       "    </tr>\n",
       "    <tr>\n",
       "      <th>8</th>\n",
       "      <td>2400</td>\n",
       "      <td>100</td>\n",
       "    </tr>\n",
       "  </tbody>\n",
       "</table>\n",
       "</div>"
      ],
      "text/plain": [
       "   Quota [m s.l.m.]  Area cumulata [%]\n",
       "0               800                  0\n",
       "1              1000                  5\n",
       "2              1200                 15\n",
       "3              1400                 30\n",
       "4              1600                 50\n",
       "5              1800                 70\n",
       "6              2000                 85\n",
       "7              2200                 95\n",
       "8              2400                100"
      ]
     },
     "execution_count": 5,
     "metadata": {},
     "output_type": "execute_result"
    }
   ],
   "source": [
    "df_IpsMet"
   ]
  },
  {
   "cell_type": "code",
   "execution_count": 6,
   "id": "3e1fb7f4",
   "metadata": {},
   "outputs": [
    {
     "data": {
      "text/html": [
       "<div>\n",
       "<style scoped>\n",
       "    .dataframe tbody tr th:only-of-type {\n",
       "        vertical-align: middle;\n",
       "    }\n",
       "\n",
       "    .dataframe tbody tr th {\n",
       "        vertical-align: top;\n",
       "    }\n",
       "\n",
       "    .dataframe thead th {\n",
       "        text-align: right;\n",
       "    }\n",
       "</style>\n",
       "<table border=\"1\" class=\"dataframe\">\n",
       "  <thead>\n",
       "    <tr style=\"text-align: right;\">\n",
       "      <th></th>\n",
       "      <th>Tempo [h]</th>\n",
       "      <th>Precipitazioni cumulate [mm]</th>\n",
       "    </tr>\n",
       "  </thead>\n",
       "  <tbody>\n",
       "    <tr>\n",
       "      <th>0</th>\n",
       "      <td>0</td>\n",
       "      <td>0</td>\n",
       "    </tr>\n",
       "    <tr>\n",
       "      <th>1</th>\n",
       "      <td>1</td>\n",
       "      <td>5</td>\n",
       "    </tr>\n",
       "    <tr>\n",
       "      <th>2</th>\n",
       "      <td>2</td>\n",
       "      <td>10</td>\n",
       "    </tr>\n",
       "    <tr>\n",
       "      <th>3</th>\n",
       "      <td>3</td>\n",
       "      <td>15</td>\n",
       "    </tr>\n",
       "    <tr>\n",
       "      <th>4</th>\n",
       "      <td>4</td>\n",
       "      <td>20</td>\n",
       "    </tr>\n",
       "    <tr>\n",
       "      <th>5</th>\n",
       "      <td>5</td>\n",
       "      <td>25</td>\n",
       "    </tr>\n",
       "    <tr>\n",
       "      <th>6</th>\n",
       "      <td>6</td>\n",
       "      <td>30</td>\n",
       "    </tr>\n",
       "    <tr>\n",
       "      <th>7</th>\n",
       "      <td>7</td>\n",
       "      <td>35</td>\n",
       "    </tr>\n",
       "    <tr>\n",
       "      <th>8</th>\n",
       "      <td>8</td>\n",
       "      <td>40</td>\n",
       "    </tr>\n",
       "    <tr>\n",
       "      <th>9</th>\n",
       "      <td>9</td>\n",
       "      <td>45</td>\n",
       "    </tr>\n",
       "    <tr>\n",
       "      <th>10</th>\n",
       "      <td>10</td>\n",
       "      <td>50</td>\n",
       "    </tr>\n",
       "    <tr>\n",
       "      <th>11</th>\n",
       "      <td>11</td>\n",
       "      <td>55</td>\n",
       "    </tr>\n",
       "    <tr>\n",
       "      <th>12</th>\n",
       "      <td>12</td>\n",
       "      <td>60</td>\n",
       "    </tr>\n",
       "    <tr>\n",
       "      <th>13</th>\n",
       "      <td>13</td>\n",
       "      <td>65</td>\n",
       "    </tr>\n",
       "    <tr>\n",
       "      <th>14</th>\n",
       "      <td>14</td>\n",
       "      <td>70</td>\n",
       "    </tr>\n",
       "    <tr>\n",
       "      <th>15</th>\n",
       "      <td>15</td>\n",
       "      <td>75</td>\n",
       "    </tr>\n",
       "    <tr>\n",
       "      <th>16</th>\n",
       "      <td>16</td>\n",
       "      <td>80</td>\n",
       "    </tr>\n",
       "    <tr>\n",
       "      <th>17</th>\n",
       "      <td>17</td>\n",
       "      <td>85</td>\n",
       "    </tr>\n",
       "    <tr>\n",
       "      <th>18</th>\n",
       "      <td>18</td>\n",
       "      <td>90</td>\n",
       "    </tr>\n",
       "    <tr>\n",
       "      <th>19</th>\n",
       "      <td>19</td>\n",
       "      <td>95</td>\n",
       "    </tr>\n",
       "    <tr>\n",
       "      <th>20</th>\n",
       "      <td>20</td>\n",
       "      <td>100</td>\n",
       "    </tr>\n",
       "    <tr>\n",
       "      <th>21</th>\n",
       "      <td>21</td>\n",
       "      <td>105</td>\n",
       "    </tr>\n",
       "    <tr>\n",
       "      <th>22</th>\n",
       "      <td>22</td>\n",
       "      <td>110</td>\n",
       "    </tr>\n",
       "    <tr>\n",
       "      <th>23</th>\n",
       "      <td>23</td>\n",
       "      <td>115</td>\n",
       "    </tr>\n",
       "    <tr>\n",
       "      <th>24</th>\n",
       "      <td>24</td>\n",
       "      <td>120</td>\n",
       "    </tr>\n",
       "  </tbody>\n",
       "</table>\n",
       "</div>"
      ],
      "text/plain": [
       "    Tempo [h]  Precipitazioni cumulate [mm]\n",
       "0           0                             0\n",
       "1           1                             5\n",
       "2           2                            10\n",
       "3           3                            15\n",
       "4           4                            20\n",
       "5           5                            25\n",
       "6           6                            30\n",
       "7           7                            35\n",
       "8           8                            40\n",
       "9           9                            45\n",
       "10         10                            50\n",
       "11         11                            55\n",
       "12         12                            60\n",
       "13         13                            65\n",
       "14         14                            70\n",
       "15         15                            75\n",
       "16         16                            80\n",
       "17         17                            85\n",
       "18         18                            90\n",
       "19         19                            95\n",
       "20         20                           100\n",
       "21         21                           105\n",
       "22         22                           110\n",
       "23         23                           115\n",
       "24         24                           120"
      ]
     },
     "execution_count": 6,
     "metadata": {},
     "output_type": "execute_result"
    }
   ],
   "source": [
    "df_Precip"
   ]
  },
  {
   "cell_type": "code",
   "execution_count": 7,
   "id": "8682a9df",
   "metadata": {},
   "outputs": [
    {
     "data": {
      "text/html": [
       "<div>\n",
       "<style scoped>\n",
       "    .dataframe tbody tr th:only-of-type {\n",
       "        vertical-align: middle;\n",
       "    }\n",
       "\n",
       "    .dataframe tbody tr th {\n",
       "        vertical-align: top;\n",
       "    }\n",
       "\n",
       "    .dataframe thead th {\n",
       "        text-align: right;\n",
       "    }\n",
       "</style>\n",
       "<table border=\"1\" class=\"dataframe\">\n",
       "  <thead>\n",
       "    <tr style=\"text-align: right;\">\n",
       "      <th></th>\n",
       "      <th>Area totale [km^2]</th>\n",
       "      <th>Capacità massima [Mm^3]</th>\n",
       "      <th>Quota di sfioro [m s.l.m.]</th>\n",
       "      <th>Portata massima turbinabile [m^3/s]</th>\n",
       "      <th>DMV [m^3/s]</th>\n",
       "      <th>Quota iniziale [m s.l.m.]</th>\n",
       "      <th>Portata turbinata [m^3/s]</th>\n",
       "      <th>Inizio turbinata [h]</th>\n",
       "      <th>Fine turbinata [h]</th>\n",
       "      <th>Tempo proiezione [h]</th>\n",
       "    </tr>\n",
       "  </thead>\n",
       "  <tbody>\n",
       "    <tr>\n",
       "      <th>0</th>\n",
       "      <td>200</td>\n",
       "      <td>40</td>\n",
       "      <td>830</td>\n",
       "      <td>16</td>\n",
       "      <td>1.5</td>\n",
       "      <td>823</td>\n",
       "      <td>12</td>\n",
       "      <td>10</td>\n",
       "      <td>18</td>\n",
       "      <td>72</td>\n",
       "    </tr>\n",
       "  </tbody>\n",
       "</table>\n",
       "</div>"
      ],
      "text/plain": [
       "   Area totale [km^2]  Capacità massima [Mm^3]  Quota di sfioro [m s.l.m.]  \\\n",
       "0                 200                       40                         830   \n",
       "\n",
       "   Portata massima turbinabile [m^3/s]  DMV [m^3/s]  \\\n",
       "0                                   16          1.5   \n",
       "\n",
       "   Quota iniziale [m s.l.m.]  Portata turbinata [m^3/s]  Inizio turbinata [h]  \\\n",
       "0                        823                         12                    10   \n",
       "\n",
       "   Fine turbinata [h]  Tempo proiezione [h]  \n",
       "0                  18                    72  "
      ]
     },
     "execution_count": 7,
     "metadata": {},
     "output_type": "execute_result"
    }
   ],
   "source": [
    "df_Dati"
   ]
  },
  {
   "cell_type": "markdown",
   "id": "03c1d5ee",
   "metadata": {},
   "source": [
    "## Vettori numpy con i dati di partenza del problema"
   ]
  },
  {
   "cell_type": "code",
   "execution_count": 8,
   "id": "5d72309d",
   "metadata": {},
   "outputs": [],
   "source": [
    "nm_H=df_VolInv.columns[0]\n",
    "H=df_VolInv.iloc[:,0].to_numpy(dtype='float32') #Quota invaso\n",
    "nm_V=df_VolInv.columns[1]\n",
    "V=df_VolInv.iloc[:,1].to_numpy(dtype='float32') #Volume totale acqua invasata"
   ]
  },
  {
   "cell_type": "code",
   "execution_count": 9,
   "id": "3f768d06",
   "metadata": {},
   "outputs": [],
   "source": [
    "nm_Tp=df_Precip.columns[0] \n",
    "Tp=df_Precip.iloc[:,0].to_numpy(dtype='float32') #Tempo [h]\n",
    "nm_Pcum=df_Precip.columns[1]\n",
    "Pcum=df_Precip.iloc[:,1].to_numpy(dtype='float32') #Precipitazioni cumulate "
   ]
  },
  {
   "cell_type": "code",
   "execution_count": 10,
   "id": "fa97f230",
   "metadata": {},
   "outputs": [],
   "source": [
    "nm_Z=df_IpsMet.columns[0]\n",
    "Z=df_IpsMet.iloc[:,0].to_numpy(dtype='float32') #Quota \n",
    "nm_Arel=df_IpsMet.columns[1]\n",
    "Arel=df_IpsMet.iloc[:,1].to_numpy(dtype='float32') #Area relativa"
   ]
  },
  {
   "cell_type": "code",
   "execution_count": 11,
   "id": "f91a47e1",
   "metadata": {},
   "outputs": [
    {
     "name": "stdout",
     "output_type": "stream",
     "text": [
      "Area totale [km^2] [2.e+08]\n",
      "Capacità massima [Mm^3] [40]\n",
      "Quota di sfioro [m s.l.m.] [830]\n",
      "Portata massima turbinabile [m^3/s] [16]\n",
      "DMV [m^3/s] [1.5]\n",
      "Quota iniziale [m s.l.m.] [823]\n",
      "Portata turbinata [m^3/s] [12]\n",
      "Inizio turbinata [h] [10]\n",
      "Fine turbinata [h] [18]\n",
      "Tempo proiezione [h] [72]\n"
     ]
    }
   ],
   "source": [
    "nm_Atot=df_Dati.columns[0]\n",
    "Atot=df_Dati[nm_Atot].to_numpy()*1e+6 #Area totale bacino\n",
    "print(nm_Atot,Atot)\n",
    "nm_Vmax=df_Dati.columns[1]\n",
    "Vmax=df_Dati[nm_Vmax].to_numpy() #Capacità massima\n",
    "print(nm_Vmax,Vmax)\n",
    "nm_Hmax=df_Dati.columns[2]\n",
    "Hmax=df_Dati[nm_Hmax].to_numpy() #Quota massima bacino\n",
    "print(nm_Hmax,Hmax)\n",
    "nm_TBmax=df_Dati.columns[3]\n",
    "TBmax=df_Dati[nm_TBmax].to_numpy() #Portata max turbina\n",
    "print(nm_TBmax,TBmax)\n",
    "nm_DMV=df_Dati.columns[4]\n",
    "DMV=df_Dati[nm_DMV].to_numpy() #Portata DMV\n",
    "print(nm_DMV,DMV)\n",
    "nm_H0=df_Dati.columns[5]\n",
    "H0=df_Dati[nm_H0].to_numpy() #Quota iniziale bacino\n",
    "print(nm_H0,H0)\n",
    "nm_TBieri=df_Dati.columns[6] \n",
    "TBieri=df_Dati[nm_TBieri].to_numpy() #Portata turbinata\n",
    "print(nm_TBieri,TBieri)\n",
    "nm_inizio=df_Dati.columns[7]\n",
    "inizio=df_Dati[nm_inizio].to_numpy() #Inizio turbinata\n",
    "print(nm_inizio,inizio)\n",
    "nm_fine=df_Dati.columns[8]\n",
    "fine=df_Dati[nm_fine].to_numpy() #Fine turbinata\n",
    "print(nm_fine,fine)\n",
    "nm_Ttot=df_Dati.columns[9]\n",
    "Ttot=df_Dati[nm_Ttot].to_numpy() #Tempo proiezione\n",
    "print(nm_Ttot,Ttot)\n",
    "deltaT=600 #passo di campionamento in secondi (10 minuti)\n",
    "T=np.arange(0,Ttot,deltaT/3600)"
   ]
  },
  {
   "cell_type": "markdown",
   "id": "e955ea24",
   "metadata": {},
   "source": [
    "## Volume iniziale"
   ]
  },
  {
   "cell_type": "code",
   "execution_count": 12,
   "id": "08992e30",
   "metadata": {},
   "outputs": [
    {
     "name": "stdout",
     "output_type": "stream",
     "text": [
      "Il volume d'acqua iniziale dell'invaso è: 23.0 m^3\n",
      "Il volume d'acqua mancante per riempire l'invaso è: 17.0 m^3\n"
     ]
    }
   ],
   "source": [
    "V0=valInt(H,V,H0)\n",
    "print(f\"Il volume d'acqua iniziale dell'invaso è: {float(V0)} m^3\")\n",
    "print(f\"Il volume d'acqua mancante per riempire l'invaso è: {float(Vmax-V0)} m^3\")"
   ]
  },
  {
   "cell_type": "markdown",
   "id": "adaf206e",
   "metadata": {},
   "source": [
    "## Considerazione: Nel bacino precipitano 24 Mm^3 in un giorno e il volume rimanete è di 17 Mm^3... C'è possibilità di sfioro."
   ]
  },
  {
   "cell_type": "markdown",
   "id": "f3ce4d72",
   "metadata": {},
   "source": [
    "# Scelgo idrogramma di piena\n",
    "Nel caso in cui non sia presente un idrogramma di piena tra i file .csv, lo ipotizzo partendo da una distribuzione Gamma. Ho impostato i parametri della distribuzione tenendo conto del fatto che l'area del bacino non è molto grande e quindi la maggior parte dell'acqua piovuta raggiunge l'invaso entro qualche ora."
   ]
  },
  {
   "cell_type": "code",
   "execution_count": 13,
   "id": "ce68a896",
   "metadata": {},
   "outputs": [
    {
     "name": "stdout",
     "output_type": "stream",
     "text": [
      "Il volume è: 0.9999182594314329\n"
     ]
    },
    {
     "data": {
      "image/png": "[encoded data removed]",
      "text/plain": [
       "<Figure size 936x792 with 1 Axes>"
      ]
     },
     "metadata": {
      "needs_background": "light"
     },
     "output_type": "display_data"
    }
   ],
   "source": [
    "Trisp_max=36 #tempo di risposta massimo [h] \n",
    "file_IdrPiena=\"IdrogrammaPiena.csv\"\n",
    "try:\n",
    "    df_IdrPiena=pd.read_csv(file_IdrPiena, sep =\";\")\n",
    "    nm_Tip=df_IdrPiena.columns[0] \n",
    "    Tip=df_IdrPiena.iloc[:,0].to_numpy(dtype='float32') #Tempo [h]\n",
    "    nm_U=df_IdrPiena.columns[1]\n",
    "    U=df_IdrPiena[:,1].to_numpy(dtype='float32') #Risposta unitaria\n",
    "except:\n",
    "    Tip=np.arange(0,Trisp_max,deltaT/3600)\n",
    "    a=2.5 #Parametro distribuzione\n",
    "    U=ss.gamma.pdf(Tip, a,loc=0, scale=1.5)/3600\n",
    "    #Controllo che il volume totale sia 1\n",
    "    Vu=U.sum()*deltaT\n",
    "    print(f\"Il volume è: {Vu}\")\n",
    "    #Grafico\n",
    "    fig, ax = plt.subplots(figsize=(13, 11))\n",
    "    ax.plot(Tip,U,linewidth=2.5,label='gamma pdf')\n",
    "    ax.set_ylabel(\"Risposta unitaria [1/s]\",fontsize=15)\n",
    "    ax.set_xlabel(\"Tempo [h]\",fontsize=15)\n",
    "    ax.set_xticks(np.arange(0, Trisp_max+1, step=3))\n",
    "    ax.set_title(\"Idrogramma di piena\",fontsize=18)\n",
    "    ax.set_xlim(0,Trisp_max)\n",
    "    ax.set_ylim(bottom=0)\n",
    "    ax.grid()\n",
    "    fig.savefig(outdir+\"IdrogrammaPiena.png\",facecolor='white')"
   ]
  },
  {
   "cell_type": "markdown",
   "id": "560f891a",
   "metadata": {},
   "source": [
    "\n",
    "# Determino tasso di ruscellamento a partire dalle precipitazioni cumulate\n",
    "## Fisso i coefficienti di ruscellamento"
   ]
  },
  {
   "cell_type": "code",
   "execution_count": 14,
   "id": "199d409e",
   "metadata": {},
   "outputs": [],
   "source": [
    "#Parametri ipotizzati\n",
    "Apioggia=0.9\n",
    "Aneve=0.\n",
    "Ztrans=500 #altezza transizione pioggia/neve"
   ]
  },
  {
   "cell_type": "markdown",
   "id": "1f08a09c",
   "metadata": {},
   "source": [
    "## Calcolo alfa medio e tasso di ruscellamento"
   ]
  },
  {
   "cell_type": "code",
   "execution_count": 15,
   "id": "cdfbf1f0",
   "metadata": {},
   "outputs": [
    {
     "name": "stdout",
     "output_type": "stream",
     "text": [
      "Alfa:  [0.9  0.9  0.9  0.54 0.18 0.   0.   0.   0.  ]\n",
      "Il coefficiente medio di ruscellamento è: 25.2%\n",
      "Il volume totale di acqua che ha ruscellato è: 6.05e+06 m^3\n"
     ]
    }
   ],
   "source": [
    "Tprec,intP,R,Amedio,V_in=R_calc(Tp,Pcum,deltaT,Z,Atot,Arel,Apioggia,Aneve,Zneve,Ztrans)\n",
    "print(f\"Il coefficiente medio di ruscellamento è: {Amedio*100}%\")\n",
    "print(f\"Il volume totale di acqua che ha ruscellato è: {V_in:.2e} m^3\")"
   ]
  },
  {
   "cell_type": "code",
   "execution_count": 16,
   "id": "1268b687",
   "metadata": {},
   "outputs": [
    {
     "data": {
      "image/png": "[encoded data removed]",
      "text/plain": [
       "<Figure size 936x792 with 1 Axes>"
      ]
     },
     "metadata": {
      "needs_background": "light"
     },
     "output_type": "display_data"
    }
   ],
   "source": [
    "fig, ax = plt.subplots(figsize=(13, 11))\n",
    "ax.plot(Tprec[:-1],intP*3600,linewidth=2.5,label='gamma pdf')\n",
    "ax.set_ylabel(\"Intensità media delle precipitazioni [mm/h]\",fontsize=15)\n",
    "ax.set_xlabel(nm_Tp,fontsize=15)\n",
    "ax.set_xticks(np.arange(0, Tprec[-1]+1, step=3))\n",
    "ax.set_title(\"Andamento dell'intensità media delle precipitazioni nel bacino\",fontsize=18)\n",
    "ax.set_xlim(0,Tprec[-1])\n",
    "ax.set_ylim(bottom=0, top=8)\n",
    "ax.grid()\n",
    "fig.savefig(outdir+\"Precipitazioni.png\",facecolor='white')"
   ]
  },
  {
   "cell_type": "markdown",
   "id": "99abb081",
   "metadata": {},
   "source": [
    "# Determino portata entrante nell'invaso\n",
    "Convoluzione tra idrogramma di piena unitario e tasso di ruscellamento"
   ]
  },
  {
   "cell_type": "code",
   "execution_count": 17,
   "id": "ef9d0542",
   "metadata": {},
   "outputs": [],
   "source": [
    "Q=np.convolve(R,U)*deltaT #[m^3/s]\n",
    "lenQ=len(Q)\n",
    "lenT=len(T)\n",
    "if lenQ<lenT:\n",
    "    Qe=np.zeros(lenT) #completo con zeri finali fino al termine della proiezione\n",
    "    Qe[:lenQ]=Q\n",
    "else: \n",
    "    Qe=Q[:lenT] #tronco il vettore al termine della proiezione"
   ]
  },
  {
   "cell_type": "markdown",
   "id": "1d33cb77",
   "metadata": {},
   "source": [
    "## Controllo che V_in sia uguale a V_e"
   ]
  },
  {
   "cell_type": "code",
   "execution_count": 18,
   "id": "d2c6bd51",
   "metadata": {},
   "outputs": [
    {
     "name": "stdout",
     "output_type": "stream",
     "text": [
      "Il volume totale di acqua entrante nell'invaso è: 6.05e+06 m^3\n"
     ]
    }
   ],
   "source": [
    "V_e=Q.sum()*deltaT\n",
    "print(f\"Il volume totale di acqua entrante nell'invaso è: {V_in:.2e} m^3\")"
   ]
  },
  {
   "cell_type": "markdown",
   "id": "aaf6e101",
   "metadata": {},
   "source": [
    "# Determino volume e quota, plotto e salvo i risultati"
   ]
  },
  {
   "cell_type": "code",
   "execution_count": 19,
   "id": "942d05fe",
   "metadata": {},
   "outputs": [
    {
     "data": {
      "image/png": "[encoded data removed]",
      "text/plain": [
       "<Figure size 1008x720 with 1 Axes>"
      ]
     },
     "metadata": {
      "needs_background": "light"
     },
     "output_type": "display_data"
    },
    {
     "data": {
      "image/png": "[encoded data removed]",
      "text/plain": [
       "<Figure size 1008x720 with 1 Axes>"
      ]
     },
     "metadata": {
      "needs_background": "light"
     },
     "output_type": "display_data"
    }
   ],
   "source": [
    "T=np.append(T,Ttot) #aggiungo ultimo valore per plot\n",
    "Qieri=TB_vett(inizio,fine,deltaT,lenT)*TBieri #Portata uscente se si turbina come il giorno precedente\n",
    "# Strategie di produzione\n",
    "QT=[0,TBmax,Qieri] #portata turbinata\n",
    "lg=[\"Turb nullo\",\"Turb massimo\",\"Turb ieri\"]\n",
    "Tmode=[\"T0\",\"Tmax\",\"Tieri\"]\n",
    "c=[\"C0\",\"C1\",\"C2\"] #colori\n",
    "# Creazione grafici\n",
    "figV, axV = plt.subplots(figsize=(14, 10))\n",
    "axV.set_title(\"Andamento del volume di acqua dell'invaso nel caso \"+tipo,fontsize=18)\n",
    "figH, axH = plt.subplots(figsize=(14, 10))\n",
    "axH.set_title(\"Andamento del livello di acqua dell'invaso nel caso \"+tipo,fontsize=18)\n",
    "dizOrario={nm_Tp:T[0::6].astype('int')}\n",
    "diz={}\n",
    "for n,qt in enumerate(QT): #ciclo su ogni strategia di produzione\n",
    "    Qu=qt+DMV #portata uscente [m^3/s]\n",
    "    Qnetto=Qe-Qu #portata netta [m^3/s]\n",
    "    deltaV=Qnetto*deltaT*1e-6 #variazione di volume [Mm^3]\n",
    "    Vf=V0+np.cumsum(deltaV)\n",
    "    V_invaso=np.concatenate((V0,Vf)) #Volume invaso [Mm^3]\n",
    "    VM=V_invaso.max() #Massimo volume raggiunto\n",
    "    HM=valInt(V,H,[VM]) #Massimo livello raggiunto\n",
    "    idxmax=V_invaso.argmax() #Posizione massimo\n",
    "    TM=T[idxmax]\n",
    "    Vecc=VM-Vmax #Volume eccedente\n",
    "    H_invaso=valInt(V,H,V_invaso) #Quota [m s.l.m.]\n",
    "    #Plot volume\n",
    "    axV.plot(T,V_invaso,color=c[n],label=lg[n])\n",
    "    axV.plot(TM,VM,color=c[n],label=f\"Max: {float(VM):.1f} m^3\",marker='o',markersize=8)\n",
    "    #Plot quota\n",
    "    axH.plot(T,H_invaso,color=c[n],label=lg[n])\n",
    "    axH.plot(TM,HM,color=c[n],label=f\"Max: {float(HM):.1f} m s.l.m.\",marker='o',markersize=8)\n",
    "    #Salvo in un dizionario le serie orarie ottenute\n",
    "    dizOrario.update({Tmode[n]+\"_\"+nm_H:H_invaso[0::6].round(1),Tmode[n]+\"_\"+nm_V:V_invaso[0::6].round(1)})\n",
    "    #Calcolo livello di sicurezza\n",
    "    if Vecc>0:\n",
    "        V0_sicuro=V0-Vecc\n",
    "        V_sicuro=V-Vecc\n",
    "        H0_sicuro=valInt(V,H,V0_sicuro)\n",
    "        H_sicuro=valInt(V,H,V_sicuro)\n",
    "        axV.axhline(V0_sicuro,linestyle='--',color=c[n],label=f\"Sicurezza: {float(V0_sicuro):.1f} m^3\",linewidth=1.5)\n",
    "        axH.axhline(H0_sicuro,linestyle='--',color=c[n],label=f\"Sicurezza: {float(H0_sicuro):.1f} m s.l.m.\",linewidth=1.5)\n",
    "        #Salvo in un dizionario i dati finali ottenuti\n",
    "        diz.update({Tmode[n]+\"_Quota sicurezza [m s.l.m.]\":H0_sicuro.round(1),Tmode[n]+\"_Volume massimo [m^3]\":VM.round(1)})\n",
    "    else:\n",
    "        V0_sicuro=None\n",
    "        H0_sicuro=None\n",
    "        diz.update({Tmode[n]+\"_Quota sicurezza [m s.l.m.]\":H0_sicuro,Tmode[n]+\"_Volume massimo [m^3]\":VM.round(1)})\n",
    "        \n",
    "# Ritocco e salvataggio grafici\n",
    "plotting(axV,Vmax,0,Ttot,nm_Tp,nm_V,\"Volume massimo\")\n",
    "figV.savefig(outdir+\"VolumeInvaso_\"+tipo+\".png\",facecolor='white')\n",
    "plotting(axH,Hmax,0,Ttot,nm_Tp,nm_H,\"Quota massima\")\n",
    "figH.savefig(outdir+\"QuotaInvaso_\"+tipo+\".png\",facecolor='white')"
   ]
  },
  {
   "cell_type": "markdown",
   "id": "90ca5002",
   "metadata": {},
   "source": [
    "# Visualizzo in un dataframe i risultati finali e salvo in due csv"
   ]
  },
  {
   "cell_type": "code",
   "execution_count": 20,
   "id": "44550f31",
   "metadata": {},
   "outputs": [
    {
     "data": {
      "text/html": [
       "<div>\n",
       "<style scoped>\n",
       "    .dataframe tbody tr th:only-of-type {\n",
       "        vertical-align: middle;\n",
       "    }\n",
       "\n",
       "    .dataframe tbody tr th {\n",
       "        vertical-align: top;\n",
       "    }\n",
       "\n",
       "    .dataframe thead th {\n",
       "        text-align: right;\n",
       "    }\n",
       "</style>\n",
       "<table border=\"1\" class=\"dataframe\">\n",
       "  <thead>\n",
       "    <tr style=\"text-align: right;\">\n",
       "      <th></th>\n",
       "      <th>Tempo [h]</th>\n",
       "      <th>T0_Quota [m s.l.m.]</th>\n",
       "      <th>T0_Volume totale [Mm^3]</th>\n",
       "      <th>Tmax_Quota [m s.l.m.]</th>\n",
       "      <th>Tmax_Volume totale [Mm^3]</th>\n",
       "      <th>Tieri_Quota [m s.l.m.]</th>\n",
       "      <th>Tieri_Volume totale [Mm^3]</th>\n",
       "    </tr>\n",
       "  </thead>\n",
       "  <tbody>\n",
       "    <tr>\n",
       "      <th>0</th>\n",
       "      <td>0</td>\n",
       "      <td>823.0</td>\n",
       "      <td>23.0</td>\n",
       "      <td>823.0</td>\n",
       "      <td>23.0</td>\n",
       "      <td>823.0</td>\n",
       "      <td>23.0</td>\n",
       "    </tr>\n",
       "    <tr>\n",
       "      <th>1</th>\n",
       "      <td>1</td>\n",
       "      <td>823.0</td>\n",
       "      <td>23.0</td>\n",
       "      <td>823.0</td>\n",
       "      <td>22.9</td>\n",
       "      <td>823.0</td>\n",
       "      <td>23.0</td>\n",
       "    </tr>\n",
       "    <tr>\n",
       "      <th>2</th>\n",
       "      <td>2</td>\n",
       "      <td>823.0</td>\n",
       "      <td>23.0</td>\n",
       "      <td>823.0</td>\n",
       "      <td>22.9</td>\n",
       "      <td>823.0</td>\n",
       "      <td>23.0</td>\n",
       "    </tr>\n",
       "    <tr>\n",
       "      <th>3</th>\n",
       "      <td>3</td>\n",
       "      <td>823.1</td>\n",
       "      <td>23.1</td>\n",
       "      <td>823.0</td>\n",
       "      <td>22.9</td>\n",
       "      <td>823.1</td>\n",
       "      <td>23.1</td>\n",
       "    </tr>\n",
       "    <tr>\n",
       "      <th>4</th>\n",
       "      <td>4</td>\n",
       "      <td>823.1</td>\n",
       "      <td>23.2</td>\n",
       "      <td>823.0</td>\n",
       "      <td>23.0</td>\n",
       "      <td>823.1</td>\n",
       "      <td>23.2</td>\n",
       "    </tr>\n",
       "    <tr>\n",
       "      <th>...</th>\n",
       "      <td>...</td>\n",
       "      <td>...</td>\n",
       "      <td>...</td>\n",
       "      <td>...</td>\n",
       "      <td>...</td>\n",
       "      <td>...</td>\n",
       "      <td>...</td>\n",
       "    </tr>\n",
       "    <tr>\n",
       "      <th>68</th>\n",
       "      <td>68</td>\n",
       "      <td>825.6</td>\n",
       "      <td>28.7</td>\n",
       "      <td>823.9</td>\n",
       "      <td>24.8</td>\n",
       "      <td>825.2</td>\n",
       "      <td>27.6</td>\n",
       "    </tr>\n",
       "    <tr>\n",
       "      <th>69</th>\n",
       "      <td>69</td>\n",
       "      <td>825.6</td>\n",
       "      <td>28.7</td>\n",
       "      <td>823.9</td>\n",
       "      <td>24.7</td>\n",
       "      <td>825.2</td>\n",
       "      <td>27.6</td>\n",
       "    </tr>\n",
       "    <tr>\n",
       "      <th>70</th>\n",
       "      <td>70</td>\n",
       "      <td>825.6</td>\n",
       "      <td>28.7</td>\n",
       "      <td>823.8</td>\n",
       "      <td>24.6</td>\n",
       "      <td>825.2</td>\n",
       "      <td>27.6</td>\n",
       "    </tr>\n",
       "    <tr>\n",
       "      <th>71</th>\n",
       "      <td>71</td>\n",
       "      <td>825.6</td>\n",
       "      <td>28.7</td>\n",
       "      <td>823.8</td>\n",
       "      <td>24.6</td>\n",
       "      <td>825.2</td>\n",
       "      <td>27.6</td>\n",
       "    </tr>\n",
       "    <tr>\n",
       "      <th>72</th>\n",
       "      <td>72</td>\n",
       "      <td>825.6</td>\n",
       "      <td>28.7</td>\n",
       "      <td>823.8</td>\n",
       "      <td>24.5</td>\n",
       "      <td>825.2</td>\n",
       "      <td>27.6</td>\n",
       "    </tr>\n",
       "  </tbody>\n",
       "</table>\n",
       "<p>73 rows × 7 columns</p>\n",
       "</div>"
      ],
      "text/plain": [
       "    Tempo [h]  T0_Quota [m s.l.m.]  T0_Volume totale [Mm^3]  \\\n",
       "0           0                823.0                     23.0   \n",
       "1           1                823.0                     23.0   \n",
       "2           2                823.0                     23.0   \n",
       "3           3                823.1                     23.1   \n",
       "4           4                823.1                     23.2   \n",
       "..        ...                  ...                      ...   \n",
       "68         68                825.6                     28.7   \n",
       "69         69                825.6                     28.7   \n",
       "70         70                825.6                     28.7   \n",
       "71         71                825.6                     28.7   \n",
       "72         72                825.6                     28.7   \n",
       "\n",
       "    Tmax_Quota [m s.l.m.]  Tmax_Volume totale [Mm^3]  Tieri_Quota [m s.l.m.]  \\\n",
       "0                   823.0                       23.0                   823.0   \n",
       "1                   823.0                       22.9                   823.0   \n",
       "2                   823.0                       22.9                   823.0   \n",
       "3                   823.0                       22.9                   823.1   \n",
       "4                   823.0                       23.0                   823.1   \n",
       "..                    ...                        ...                     ...   \n",
       "68                  823.9                       24.8                   825.2   \n",
       "69                  823.9                       24.7                   825.2   \n",
       "70                  823.8                       24.6                   825.2   \n",
       "71                  823.8                       24.6                   825.2   \n",
       "72                  823.8                       24.5                   825.2   \n",
       "\n",
       "    Tieri_Volume totale [Mm^3]  \n",
       "0                         23.0  \n",
       "1                         23.0  \n",
       "2                         23.0  \n",
       "3                         23.1  \n",
       "4                         23.2  \n",
       "..                         ...  \n",
       "68                        27.6  \n",
       "69                        27.6  \n",
       "70                        27.6  \n",
       "71                        27.6  \n",
       "72                        27.6  \n",
       "\n",
       "[73 rows x 7 columns]"
      ]
     },
     "execution_count": 20,
     "metadata": {},
     "output_type": "execute_result"
    }
   ],
   "source": [
    "#Serie orarie\n",
    "df_risOrario=pd.DataFrame(dizOrario)\n",
    "df_risOrario"
   ]
  },
  {
   "cell_type": "code",
   "execution_count": 21,
   "id": "77910c61",
   "metadata": {},
   "outputs": [
    {
     "data": {
      "text/html": [
       "<div>\n",
       "<style scoped>\n",
       "    .dataframe tbody tr th:only-of-type {\n",
       "        vertical-align: middle;\n",
       "    }\n",
       "\n",
       "    .dataframe tbody tr th {\n",
       "        vertical-align: top;\n",
       "    }\n",
       "\n",
       "    .dataframe thead th {\n",
       "        text-align: right;\n",
       "    }\n",
       "</style>\n",
       "<table border=\"1\" class=\"dataframe\">\n",
       "  <thead>\n",
       "    <tr style=\"text-align: right;\">\n",
       "      <th></th>\n",
       "      <th>T0_Quota sicurezza [m s.l.m.]</th>\n",
       "      <th>T0_Volume massimo [m^3]</th>\n",
       "      <th>Tmax_Quota sicurezza [m s.l.m.]</th>\n",
       "      <th>Tmax_Volume massimo [m^3]</th>\n",
       "      <th>Tieri_Quota sicurezza [m s.l.m.]</th>\n",
       "      <th>Tieri_Volume massimo [m^3]</th>\n",
       "    </tr>\n",
       "  </thead>\n",
       "  <tbody>\n",
       "    <tr>\n",
       "      <th>0</th>\n",
       "      <td>None</td>\n",
       "      <td>28.9</td>\n",
       "      <td>None</td>\n",
       "      <td>27.1</td>\n",
       "      <td>None</td>\n",
       "      <td>28.5</td>\n",
       "    </tr>\n",
       "  </tbody>\n",
       "</table>\n",
       "</div>"
      ],
      "text/plain": [
       "  T0_Quota sicurezza [m s.l.m.]  T0_Volume massimo [m^3]  \\\n",
       "0                          None                     28.9   \n",
       "\n",
       "  Tmax_Quota sicurezza [m s.l.m.]  Tmax_Volume massimo [m^3]  \\\n",
       "0                            None                       27.1   \n",
       "\n",
       "  Tieri_Quota sicurezza [m s.l.m.]  Tieri_Volume massimo [m^3]  \n",
       "0                             None                        28.5  "
      ]
     },
     "execution_count": 21,
     "metadata": {},
     "output_type": "execute_result"
    }
   ],
   "source": [
    "#Dati finali\n",
    "df_risultati=pd.DataFrame(diz,index=[0])\n",
    "df_risultati"
   ]
  },
  {
   "cell_type": "code",
   "execution_count": 22,
   "id": "9e12d26a",
   "metadata": {},
   "outputs": [],
   "source": [
    "df_risOrario.to_csv(outdir+\"SerieOrarie_\"+tipo+\".csv\",sep=';',index=False)\n",
    "df_risultati.to_csv(outdir+\"DatiFinali_\"+tipo+\".csv\",sep=';',index=False)"
   ]
  }
 ],
 "metadata": {
  "kernelspec": {
   "display_name": "Python 3 (ipykernel)",
   "language": "python",
   "name": "python3"
  },
  "language_info": {
   "codemirror_mode": {
    "name": "ipython",
    "version": 3
   },
   "file_extension": ".py",
   "mimetype": "text/x-python",
   "name": "python",
   "nbconvert_exporter": "python",
   "pygments_lexer": "ipython3",
   "version": "3.10.4"
  }
 },
 "nbformat": 4,
 "nbformat_minor": 5
}
